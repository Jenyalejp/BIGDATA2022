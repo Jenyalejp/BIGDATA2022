{
 "cells": [
  {
   "cell_type": "code",
   "execution_count": 54,
   "metadata": {},
   "outputs": [],
   "source": [
    "# pseudo codigo\n",
    "# main()\n",
    "#    datos = get_data(filename)\n",
    "#    reporte = generate_report(datos)\n",
    "#    save_data(reporte)\n",
    "import os\n",
    "import pandas as pd\n",
    "from pathlib import Path\n",
    "\n",
    "\n"
   ]
  },
  {
   "cell_type": "code",
   "execution_count": 55,
   "metadata": {},
   "outputs": [],
   "source": [
    "def get_data(filename):\n",
    "    \n",
    "    root_dir = Path(\".\").resolve().parent #para ubicacion de archivo # para devolver a la carpeta principal\n",
    "    filename= 'llamadas123_julio_2022.csv'\n",
    "\n",
    "    file_path = os.path.join(root_dir,\"data\",\"raw\",filename)\n",
    "    file_path\n",
    "\n",
    "\n",
    "    datos = pd.read_csv(file_path, encoding='latin-1', sep=';')\n",
    "    print('get_data')\n",
    "    print('La tabla contiene', datos.shape[0], 'filas', datos.shape[1], 'columnas')\n",
    "    return datos\n",
    "\n"
   ]
  },
  {
   "cell_type": "code",
   "execution_count": 56,
   "metadata": {},
   "outputs": [],
   "source": [
    "def generate_report(datos):\n",
    "    # Crear un diccionario vacio\n",
    "    dict_resumen = dict()\n",
    "\n",
    "    # loop para llenar el diccionario de columnas con valores unicos\n",
    "    for col in datos.columns:\n",
    "        valores_unicos = datos[col].unique()\n",
    "        n_valores = len(valores_unicos)\n",
    "        dict_resumen[col] = n_valores\n",
    "\n",
    "    reporte = pd.DataFrame.from_dict(dict_resumen, orient='index')\n",
    "    reporte.rename({0: 'Count'}, axis=1, inplace=True)\n",
    "\n",
    "    print('generate_report')\n",
    "    print(reporte.head())\n",
    "    return reporte"
   ]
  },
  {
   "cell_type": "code",
   "execution_count": 61,
   "metadata": {},
   "outputs": [],
   "source": [
    "def save_data(reporte, filename):\n",
    "    # Guardar la tabla:\n",
    "\n",
    "    root_dir = Path(\".\").resolve().parent\n",
    "\n",
    "    out_name = 'resumen_' + filename\n",
    "    out_path = os.path.join(root_dir, 'data', 'processed', out_name)\n",
    "    reporte.to_csv(out_path)"
   ]
  },
  {
   "cell_type": "code",
   "execution_count": 62,
   "metadata": {},
   "outputs": [],
   "source": [
    "def main():\n",
    "\n",
    "    filename = \"llamadas123_julio_2022.csv\"\n",
    "    datos = get_data(filename)\n",
    "    reporte = generate_report(datos)\n",
    "    save_data(reporte, filename)\n",
    "\n",
    "    print('DONE!!!')"
   ]
  },
  {
   "cell_type": "code",
   "execution_count": 59,
   "metadata": {},
   "outputs": [
    {
     "name": "stdout",
     "output_type": "stream",
     "text": [
      "get_data\n",
      "La tabla contiene 13055 filas 11 columnas\n",
      "generate_report\n",
      "                                   Count\n",
      "NUMERO_INCIDENTE                   12015\n",
      "FECHA_INICIO_DESPLAZAMIENTO_MOVIL  12781\n",
      "CODIGO_LOCALIDAD                      20\n",
      "LOCALIDAD                             20\n",
      "EDAD                                 100\n",
      "DONE!!!\n"
     ]
    }
   ],
   "source": []
  },
  {
   "cell_type": "code",
   "execution_count": null,
   "metadata": {},
   "outputs": [],
   "source": [
    "if __name__ == '__main__':\n",
    "    main()"
   ]
  }
 ],
 "metadata": {
  "kernelspec": {
   "display_name": "Python 3.8.3 ('base')",
   "language": "python",
   "name": "python3"
  },
  "language_info": {
   "codemirror_mode": {
    "name": "ipython",
    "version": 3
   },
   "file_extension": ".py",
   "mimetype": "text/x-python",
   "name": "python",
   "nbconvert_exporter": "python",
   "pygments_lexer": "ipython3",
   "version": "3.8.3"
  },
  "orig_nbformat": 4,
  "vscode": {
   "interpreter": {
    "hash": "b237fbb5c931b2d79402a5279ee8b814e811b1754177f6af3e8ca9c69a245e5d"
   }
  }
 },
 "nbformat": 4,
 "nbformat_minor": 2
}
