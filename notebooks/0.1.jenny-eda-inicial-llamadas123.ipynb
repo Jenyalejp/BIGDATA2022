{
 "cells": [
  {
   "cell_type": "markdown",
   "metadata": {},
   "source": [
    "# Notebook inicial de EDA para llamadas 123"
   ]
  },
  {
   "cell_type": "code",
   "execution_count": 116,
   "metadata": {},
   "outputs": [],
   "source": [
    "#importar librerias de manipulacion\n",
    "import pandas as pd\n",
    "\n",
    "import os\n",
    "from pathlib import Path"
   ]
  },
  {
   "cell_type": "code",
   "execution_count": 117,
   "metadata": {},
   "outputs": [
    {
     "data": {
      "text/plain": [
       "'C:\\\\Users\\\\Fabio\\\\OneDrive\\\\Documentos\\\\Jenny\\\\BIG DATA\\\\BIGDATA2022\\\\data\\\\raw\\\\llamadas123_julio_2022.csv'"
      ]
     },
     "execution_count": 117,
     "metadata": {},
     "output_type": "execute_result"
    }
   ],
   "source": [
    "root_dir = Path(\".\").resolve().parent #para ubicacion de archivo # para devolver a la carpeta principal\n",
    "filename= 'llamadas123_julio_2022.csv'\n",
    "\n",
    "file_path = os.path.join(root_dir,\"data\",\"raw\",filename)\n",
    "file_path"
   ]
  },
  {
   "cell_type": "code",
   "execution_count": 118,
   "metadata": {},
   "outputs": [],
   "source": [
    "df = pd.read_csv(file_path, sep =\";\", encoding=\"latin-1\") # encoding es para cambiar la lectura de datos a español, sep = es para delimitar el archivo, \n",
    "#con df cree la variable del archivo, con n rows= puedo traer una muestra de la base"
   ]
  },
  {
   "cell_type": "code",
   "execution_count": 119,
   "metadata": {},
   "outputs": [
    {
     "data": {
      "text/html": [
       "<div>\n",
       "<style scoped>\n",
       "    .dataframe tbody tr th:only-of-type {\n",
       "        vertical-align: middle;\n",
       "    }\n",
       "\n",
       "    .dataframe tbody tr th {\n",
       "        vertical-align: top;\n",
       "    }\n",
       "\n",
       "    .dataframe thead th {\n",
       "        text-align: right;\n",
       "    }\n",
       "</style>\n",
       "<table border=\"1\" class=\"dataframe\">\n",
       "  <thead>\n",
       "    <tr style=\"text-align: right;\">\n",
       "      <th></th>\n",
       "      <th>NUMERO_INCIDENTE</th>\n",
       "      <th>FECHA_INICIO_DESPLAZAMIENTO_MOVIL</th>\n",
       "      <th>CODIGO_LOCALIDAD</th>\n",
       "      <th>LOCALIDAD</th>\n",
       "      <th>EDAD</th>\n",
       "      <th>UNIDAD</th>\n",
       "      <th>GENERO</th>\n",
       "      <th>RED</th>\n",
       "      <th>TIPO_INCIDENTE</th>\n",
       "      <th>PRIORIDAD</th>\n",
       "      <th>RECEPCION</th>\n",
       "    </tr>\n",
       "  </thead>\n",
       "  <tbody>\n",
       "    <tr>\n",
       "      <th>0</th>\n",
       "      <td>CRU-00278353-22</td>\n",
       "      <td>2022-07-01 00:08:59</td>\n",
       "      <td>11</td>\n",
       "      <td>Suba</td>\n",
       "      <td>88</td>\n",
       "      <td>A¤os</td>\n",
       "      <td>FEMENINO</td>\n",
       "      <td>Norte</td>\n",
       "      <td>Accidente Cerebro Vascular</td>\n",
       "      <td>ALTA</td>\n",
       "      <td>2022-07-01 03:40:13</td>\n",
       "    </tr>\n",
       "    <tr>\n",
       "      <th>1</th>\n",
       "      <td>CRU-00278360-22</td>\n",
       "      <td>2022-07-01 00:14:58</td>\n",
       "      <td>11</td>\n",
       "      <td>Suba</td>\n",
       "      <td>16</td>\n",
       "      <td>A¤os</td>\n",
       "      <td>MASCULINO</td>\n",
       "      <td>Norte</td>\n",
       "      <td>Herido</td>\n",
       "      <td>ALTA</td>\n",
       "      <td>2022-07-01 03:38:13</td>\n",
       "    </tr>\n",
       "    <tr>\n",
       "      <th>2</th>\n",
       "      <td>CRU-00278365-22</td>\n",
       "      <td>2022-07-01 00:21:59</td>\n",
       "      <td>18</td>\n",
       "      <td>Rafael Uribe Uribe</td>\n",
       "      <td>52</td>\n",
       "      <td>A¤os</td>\n",
       "      <td>FEMENINO</td>\n",
       "      <td>Centro Oriente</td>\n",
       "      <td>Evento Respiratorio</td>\n",
       "      <td>CRITICA</td>\n",
       "      <td>2022-07-01 04:08:24</td>\n",
       "    </tr>\n",
       "    <tr>\n",
       "      <th>3</th>\n",
       "      <td>CRU-00278370-22</td>\n",
       "      <td>2022-07-01 00:38:38</td>\n",
       "      <td>19</td>\n",
       "      <td>Ciudad Bol¡var</td>\n",
       "      <td>SIN_DATO</td>\n",
       "      <td>SIN_DATO</td>\n",
       "      <td>SIN_DATO</td>\n",
       "      <td>Privada</td>\n",
       "      <td>Herido</td>\n",
       "      <td>ALTA</td>\n",
       "      <td>0000-00-00 00:00:00</td>\n",
       "    </tr>\n",
       "    <tr>\n",
       "      <th>4</th>\n",
       "      <td>CRU-00278372-22</td>\n",
       "      <td>2022-07-01 00:53:32</td>\n",
       "      <td>1</td>\n",
       "      <td>Usaqun</td>\n",
       "      <td>33</td>\n",
       "      <td>A¤os</td>\n",
       "      <td>MASCULINO</td>\n",
       "      <td>Norte</td>\n",
       "      <td>Intento de Suicidio</td>\n",
       "      <td>ALTA</td>\n",
       "      <td>2022-07-01 03:25:29</td>\n",
       "    </tr>\n",
       "  </tbody>\n",
       "</table>\n",
       "</div>"
      ],
      "text/plain": [
       "  NUMERO_INCIDENTE FECHA_INICIO_DESPLAZAMIENTO_MOVIL  CODIGO_LOCALIDAD  \\\n",
       "0  CRU-00278353-22               2022-07-01 00:08:59                11   \n",
       "1  CRU-00278360-22               2022-07-01 00:14:58                11   \n",
       "2  CRU-00278365-22               2022-07-01 00:21:59                18   \n",
       "3  CRU-00278370-22               2022-07-01 00:38:38                19   \n",
       "4  CRU-00278372-22               2022-07-01 00:53:32                 1   \n",
       "\n",
       "            LOCALIDAD      EDAD    UNIDAD     GENERO             RED  \\\n",
       "0                Suba        88      A¤os   FEMENINO           Norte   \n",
       "1                Suba        16      A¤os  MASCULINO           Norte   \n",
       "2  Rafael Uribe Uribe        52      A¤os   FEMENINO  Centro Oriente   \n",
       "3      Ciudad Bol¡var  SIN_DATO  SIN_DATO   SIN_DATO         Privada   \n",
       "4             Usaqun        33      A¤os  MASCULINO           Norte   \n",
       "\n",
       "               TIPO_INCIDENTE PRIORIDAD            RECEPCION  \n",
       "0  Accidente Cerebro Vascular      ALTA  2022-07-01 03:40:13  \n",
       "1                      Herido      ALTA  2022-07-01 03:38:13  \n",
       "2         Evento Respiratorio   CRITICA  2022-07-01 04:08:24  \n",
       "3                      Herido      ALTA  0000-00-00 00:00:00  \n",
       "4         Intento de Suicidio      ALTA  2022-07-01 03:25:29  "
      ]
     },
     "execution_count": 119,
     "metadata": {},
     "output_type": "execute_result"
    }
   ],
   "source": [
    "df.head() #muestra las primeras filas que se quieran ver , si no se coloca nada muestra las primeras 5, sino le colocas el numero que se quiera ver"
   ]
  },
  {
   "cell_type": "code",
   "execution_count": 120,
   "metadata": {},
   "outputs": [
    {
     "data": {
      "text/plain": [
       "(13055, 11)"
      ]
     },
     "execution_count": 120,
     "metadata": {},
     "output_type": "execute_result"
    }
   ],
   "source": [
    "df.shape # shape indica numero de filas y columnas\n"
   ]
  },
  {
   "cell_type": "code",
   "execution_count": 121,
   "metadata": {},
   "outputs": [
    {
     "data": {
      "text/plain": [
       "NUMERO_INCIDENTE                     object\n",
       "FECHA_INICIO_DESPLAZAMIENTO_MOVIL    object\n",
       "CODIGO_LOCALIDAD                      int64\n",
       "LOCALIDAD                            object\n",
       "EDAD                                 object\n",
       "UNIDAD                               object\n",
       "GENERO                               object\n",
       "RED                                  object\n",
       "TIPO_INCIDENTE                       object\n",
       "PRIORIDAD                            object\n",
       "RECEPCION                            object\n",
       "dtype: object"
      ]
     },
     "execution_count": 121,
     "metadata": {},
     "output_type": "execute_result"
    }
   ],
   "source": [
    "df.dtypes #para saber que tipos de datos se tienen, si pandas dice object se refiere a un string es decir un texto"
   ]
  },
  {
   "cell_type": "code",
   "execution_count": 122,
   "metadata": {},
   "outputs": [
    {
     "data": {
      "text/plain": [
       "SIN_DATO    0.475144\n",
       "23          0.011566\n",
       "22          0.010724\n",
       "30          0.010341\n",
       "27          0.010264\n",
       "              ...   \n",
       "7           0.001302\n",
       "98          0.001226\n",
       "9           0.001149\n",
       "8           0.001072\n",
       "97          0.000919\n",
       "Name: EDAD, Length: 100, dtype: float64"
      ]
     },
     "execution_count": 122,
     "metadata": {},
     "output_type": "execute_result"
    }
   ],
   "source": [
    "df['EDAD'] .value_counts (normalize=True, dropna=False) #Para esxplorara un dato especifico y con .value_counts () se puede hacer la tabla de frecuencia\n",
    "# con (normalize=True) lo paso a % "
   ]
  },
  {
   "cell_type": "code",
   "execution_count": 123,
   "metadata": {},
   "outputs": [
    {
     "data": {
      "text/plain": [
       "21"
      ]
     },
     "execution_count": 123,
     "metadata": {},
     "output_type": "execute_result"
    }
   ],
   "source": [
    "len (df['TIPO_INCIDENTE'].unique())"
   ]
  },
  {
   "cell_type": "code",
   "execution_count": 124,
   "metadata": {},
   "outputs": [
    {
     "name": "stdout",
     "output_type": "stream",
     "text": [
      "fuera del loop\n",
      "{'NUMERO_INCIDENTE': 12015, 'FECHA_INICIO_DESPLAZAMIENTO_MOVIL': 12781, 'CODIGO_LOCALIDAD': 20, 'LOCALIDAD': 20, 'EDAD': 100, 'UNIDAD': 6, 'GENERO': 3, 'RED': 5, 'TIPO_INCIDENTE': 21, 'PRIORIDAD': 4, 'RECEPCION': 5235}\n"
     ]
    }
   ],
   "source": [
    "lista_columnas = df.columns \n",
    "\n",
    "#crear un diccionario vacio\n",
    "dict_reporte = dict()\n",
    "\n",
    "for col in lista_columnas:\n",
    "    lista_unicos = df[col].unique()\n",
    "    n_unicos = len(lista_unicos)\n",
    "    dict_reporte[col] = n_unicos\n",
    "   # print ('columna',col,n_unicos)\n",
    "\n",
    "print('fuera del loop') \n",
    "print(dict_reporte) "
   ]
  },
  {
   "cell_type": "code",
   "execution_count": 125,
   "metadata": {},
   "outputs": [
    {
     "data": {
      "text/html": [
       "<div>\n",
       "<style scoped>\n",
       "    .dataframe tbody tr th:only-of-type {\n",
       "        vertical-align: middle;\n",
       "    }\n",
       "\n",
       "    .dataframe tbody tr th {\n",
       "        vertical-align: top;\n",
       "    }\n",
       "\n",
       "    .dataframe thead th {\n",
       "        text-align: right;\n",
       "    }\n",
       "</style>\n",
       "<table border=\"1\" class=\"dataframe\">\n",
       "  <thead>\n",
       "    <tr style=\"text-align: right;\">\n",
       "      <th></th>\n",
       "      <th>conteo</th>\n",
       "    </tr>\n",
       "  </thead>\n",
       "  <tbody>\n",
       "    <tr>\n",
       "      <th>NUMERO_INCIDENTE</th>\n",
       "      <td>12015</td>\n",
       "    </tr>\n",
       "    <tr>\n",
       "      <th>FECHA_INICIO_DESPLAZAMIENTO_MOVIL</th>\n",
       "      <td>12781</td>\n",
       "    </tr>\n",
       "    <tr>\n",
       "      <th>CODIGO_LOCALIDAD</th>\n",
       "      <td>20</td>\n",
       "    </tr>\n",
       "    <tr>\n",
       "      <th>LOCALIDAD</th>\n",
       "      <td>20</td>\n",
       "    </tr>\n",
       "    <tr>\n",
       "      <th>EDAD</th>\n",
       "      <td>100</td>\n",
       "    </tr>\n",
       "    <tr>\n",
       "      <th>UNIDAD</th>\n",
       "      <td>6</td>\n",
       "    </tr>\n",
       "    <tr>\n",
       "      <th>GENERO</th>\n",
       "      <td>3</td>\n",
       "    </tr>\n",
       "    <tr>\n",
       "      <th>RED</th>\n",
       "      <td>5</td>\n",
       "    </tr>\n",
       "    <tr>\n",
       "      <th>TIPO_INCIDENTE</th>\n",
       "      <td>21</td>\n",
       "    </tr>\n",
       "    <tr>\n",
       "      <th>PRIORIDAD</th>\n",
       "      <td>4</td>\n",
       "    </tr>\n",
       "    <tr>\n",
       "      <th>RECEPCION</th>\n",
       "      <td>5235</td>\n",
       "    </tr>\n",
       "  </tbody>\n",
       "</table>\n",
       "</div>"
      ],
      "text/plain": [
       "                                   conteo\n",
       "NUMERO_INCIDENTE                    12015\n",
       "FECHA_INICIO_DESPLAZAMIENTO_MOVIL   12781\n",
       "CODIGO_LOCALIDAD                       20\n",
       "LOCALIDAD                              20\n",
       "EDAD                                  100\n",
       "UNIDAD                                  6\n",
       "GENERO                                  3\n",
       "RED                                     5\n",
       "TIPO_INCIDENTE                         21\n",
       "PRIORIDAD                               4\n",
       "RECEPCION                            5235"
      ]
     },
     "execution_count": 125,
     "metadata": {},
     "output_type": "execute_result"
    }
   ],
   "source": [
    "df_reporte = pd.DataFrame.from_dict(dict_reporte, orient='index') #creacion de tablas\n",
    "df_reporte.rename({0:'conteo'}, inplace = True, axis=1) #renombrar el titulo o nombre de columna\n",
    "df_reporte"
   ]
  },
  {
   "cell_type": "markdown",
   "metadata": {},
   "source": [
    "## Ejercicio, Crear un script de python (main.py) que lea el archivo de llamadas al 123 \n",
    "# y genere una tabla de reporte de la cantidad de valores unicos, \n",
    "# guarde la tabla en resultante en el directorio data/processed"
   ]
  },
  {
   "cell_type": "code",
   "execution_count": 157,
   "metadata": {},
   "outputs": [],
   "source": [
    "# pseudo codigo\n",
    "# main()\n",
    "#    datos = get_data(filename)\n",
    "#    reporte = generate_report(datos)\n",
    "#    save_data(reporte)\n",
    "import os\n",
    "import pandas as pd\n",
    "from pathlib import Path\n",
    "\n",
    "root_dir = Path(\".\").resolve()"
   ]
  },
  {
   "cell_type": "code",
   "execution_count": 158,
   "metadata": {},
   "outputs": [],
   "source": [
    "def get_data(filename):\n",
    "    \n",
    "    data_dir = 'raw'\n",
    "    file_path = os.path.join(root_dir, \"data\", data_dir, filename)\n",
    "\n",
    "    datos = pd.read_csv(file_path, encoding='latin-1', sep=';')\n",
    "    print('get_data')\n",
    "    print('La tabla contiene', datos.shape[0], 'filas', datos.shape[1], 'columnas')\n",
    "    return datos"
   ]
  },
  {
   "cell_type": "code",
   "execution_count": 159,
   "metadata": {},
   "outputs": [],
   "source": [
    "def generate_report(datos):\n",
    "    # Crear un diccionario vacio\n",
    "    dict_resumen = dict()\n",
    "\n",
    "    # loop para llenar el diccionario de columnas con valores unicos\n",
    "    for col in datos.columns:\n",
    "        valores_unicos = datos[col].unique()\n",
    "        n_valores = len(valores_unicos)\n",
    "        dict_resumen[col] = n_valores\n",
    "\n",
    "    reporte = pd.DataFrame.from_dict(dict_resumen, orient='index')\n",
    "    reporte.rename({0: 'Count'}, axis=1, inplace=True)\n",
    "\n",
    "    print('generate_report')\n",
    "    print(reporte.head())\n",
    "    return reporte"
   ]
  },
  {
   "cell_type": "code",
   "execution_count": 160,
   "metadata": {},
   "outputs": [],
   "source": [
    "def save_data(reporte, filename):\n",
    "    # Guardar la tabla:\n",
    "\n",
    "    out_name = 'resumen_' + filename\n",
    "    out_path = os.path.join(root_dir, 'data', 'processed', out_name)\n",
    "    reporte.to_csv(out_path)\n"
   ]
  },
  {
   "cell_type": "code",
   "execution_count": 161,
   "metadata": {},
   "outputs": [],
   "source": [
    "def main():\n",
    "\n",
    "    filename = \"llamadas123_julio_2022.csv\"\n",
    "    datos = get_data(filename)\n",
    "    reporte = generate_report(datos)\n",
    "    save_data(reporte, filename)\n",
    "\n",
    "    print('DONE!!!')\n",
    "\n"
   ]
  },
  {
   "cell_type": "code",
   "execution_count": 162,
   "metadata": {},
   "outputs": [
    {
     "name": "stdout",
     "output_type": "stream",
     "text": [
      "get_data\n",
      "La tabla contiene 13055 filas 11 columnas\n",
      "generate_report\n",
      "                                   Count\n",
      "NUMERO_INCIDENTE                   12015\n",
      "FECHA_INICIO_DESPLAZAMIENTO_MOVIL  12781\n",
      "CODIGO_LOCALIDAD                      20\n",
      "LOCALIDAD                             20\n",
      "EDAD                                 100\n",
      "DONE!!!\n"
     ]
    }
   ],
   "source": [
    "if __name__ == '__main__':\n",
    "    main()"
   ]
  },
  {
   "cell_type": "code",
   "execution_count": null,
   "metadata": {},
   "outputs": [],
   "source": [
    "###########################################\n",
    "# main.py\n",
    "#   script principal del curso BigData \n",
    "###########################################"
   ]
  },
  {
   "cell_type": "code",
   "execution_count": 163,
   "metadata": {},
   "outputs": [],
   "source": [
    "import numpy as np\n",
    "import pandas as pd\n",
    "import os\n",
    "import logging"
   ]
  },
  {
   "cell_type": "code",
   "execution_count": 148,
   "metadata": {},
   "outputs": [],
   "source": [
    "from pathlib import Path\n",
    "from tqdm import tqdm"
   ]
  },
  {
   "cell_type": "code",
   "execution_count": 149,
   "metadata": {},
   "outputs": [],
   "source": [
    "#========================================================================\n",
    "# Main\n",
    "#========================================================================"
   ]
  },
  {
   "cell_type": "code",
   "execution_count": 164,
   "metadata": {},
   "outputs": [],
   "source": [
    "def main():\n",
    "    \"\"\"Main function for ETL\n",
    "    \"\"\"\n",
    "    logger = logging.getLogger('main')\n",
    "    logger.info(\"Iniciando ETL para llamadas 123!!!\")\n",
    "\n",
    "    try:\n",
    "        generate_unique_values_report(filename=\"llamadas123_julio_2022.csv\")\n",
    "    except Exception as e:\n",
    "        logger.info(\"Error generando el reporte\")\n",
    "        logger.info(e)\n",
    "\n",
    "    logger.info(\"DONE!!!\")"
   ]
  },
  {
   "cell_type": "markdown",
   "metadata": {},
   "source": [
    "\n",
    "#========================================================================\n",
    "# generate_unique_values_report\n",
    "#========================================================================"
   ]
  },
  {
   "cell_type": "code",
   "execution_count": 165,
   "metadata": {},
   "outputs": [],
   "source": [
    "def generate_unique_values_report(filename):\n",
    "    \"\"\"Genera una tabla con el resumen de los valores unicos por cada columna\n",
    "    en el archivo dado (filename)\n",
    "\n",
    "    Args:\n",
    "        filename (str): nombre del archivo para generar el reporte\n",
    "    \"\"\"\n",
    "    logger = logging.getLogger('generate_unique_values_report')\n",
    "\n",
    "    # Read data\n",
    "    data = get_data(file=filename, dir=\"raw\")\n",
    "    lista_columnas = list(data.columns)\n",
    "\n",
    "    # loop para llenar el dictionario con los valores unicos\n",
    "    dict_valores = dict()\n",
    "    logger.info(\"Creating report\")\n",
    "    for elem in tqdm(lista_columnas):\n",
    "        dict_valores[elem] = len(data[elem].unique())\n",
    "\n",
    "         # Crea una tabla (pandas.dataframe) desde un dictionario\n",
    "    df_sum = pd.DataFrame.from_dict(dict_valores, orient=\"index\")\n",
    "    df_sum = df_sum.rename({0:\"Count\"}, axis=1)                    # renombra la columna 0 con Count\n",
    "\n",
    "    # Guardar la tabla en el directorio output\n",
    "    outname = \"report_unique_values_\" + filename \n",
    "    save_data(data=data, dir='processed', out_name=outname)\n",
    "\n"
   ]
  },
  {
   "cell_type": "code",
   "execution_count": null,
   "metadata": {},
   "outputs": [],
   "source": [
    "#========================================================================\n",
    "# save_data\n",
    "#========================================================================"
   ]
  },
  {
   "cell_type": "code",
   "execution_count": 166,
   "metadata": {},
   "outputs": [],
   "source": [
    "def save_data(data, dir, out_name):\n",
    "    \"\"\"Guarda un archivo csv, de la tabla data en el diretorio y nombre \n",
    "    indicado\n",
    "    Args:\n",
    "        data (pandas.dataframe): Datos a guardar\n",
    "        dir (str): nombre del directorio donde almacenar los datos\n",
    "        out_name (str): nombre del archivo a guardar\n",
    "    \"\"\"\n",
    "    logger = logging.getLogger('save_data')\n",
    "\n",
    "    # obtener la ruta para guardar el archivo\n",
    "    filepath = os.path.join(project_dir, \"data\", dir, out_name)\n",
    "\n",
    "    logger.info(\"Saving {}\".format(filepath))\n",
    "\n",
    "    # grabar el archivo CSV\n",
    "    data.to_csv(filepath, index=False)"
   ]
  },
  {
   "cell_type": "code",
   "execution_count": null,
   "metadata": {},
   "outputs": [],
   "source": [
    "#========================================================================\n",
    "# get_data\n",
    "#========================================================================"
   ]
  },
  {
   "cell_type": "code",
   "execution_count": 167,
   "metadata": {},
   "outputs": [],
   "source": [
    "def get_data(file, dir):\n",
    "    \"\"\"Lee el archivo indicado, retorna un dataframe de pandas con los datos\n",
    "    Args:\n",
    "        file (str): nombre del archivo de entrada\n",
    "        dir (str): nombre del directorio donde se encuentran los datos\n",
    "    Returns:\n",
    "        pandas.dataframe: dataframe con los datos\n",
    "    \"\"\"\n",
    "    logger = logging.getLogger('get_data')\n",
    "\n",
    "    # get full path where file is located\n",
    "    filepath = os.path.join(project_dir, \"data\", dir, file)\n",
    "    \n",
    "    # read data\n",
    "    data = pd.read_csv(filepath, sep=\";\", encoding=\"latin-1\")\n",
    "\n",
    "    logger.info(\"File: {} table shape:{}\".format(file, data.shape) )\n",
    "    return data\n"
   ]
  },
  {
   "cell_type": "code",
   "execution_count": 168,
   "metadata": {},
   "outputs": [
    {
     "name": "stderr",
     "output_type": "stream",
     "text": [
      "2022-09-15 21:15:55,395 - main - INFO - Iniciando ETL para llamadas 123!!!\n",
      "2022-09-15 21:15:55,430 - get_data - INFO - File: llamadas123_julio_2022.csv table shape:(13055, 11)\n",
      "2022-09-15 21:15:55,431 - generate_unique_values_report - INFO - Creating report\n",
      "100%|██████████| 11/11 [00:00<00:00, 916.48it/s]\n",
      "2022-09-15 21:15:55,446 - save_data - INFO - Saving C:\\Users\\Fabio\\OneDrive\\Documentos\\Jenny\\BIG DATA\\BIGDATA2022\\notebooks\\data\\processed\\report_unique_values_llamadas123_julio_2022.csv\n",
      "2022-09-15 21:15:55,521 - main - INFO - DONE!!!\n"
     ]
    }
   ],
   "source": [
    "if __name__ == '__main__':\n",
    "    # Basic configuration for logging (time - function name - level logs - message)\n",
    "    log_fmt = \"%(asctime)s - %(name)s - %(levelname)s - %(message)s\"\n",
    "    logging.captureWarnings(True)\n",
    "    logging.basicConfig(level=logging.INFO, format=log_fmt)\n",
    "\n",
    "    project_dir = Path(\".\").resolve()\n",
    "\n",
    "    main()"
   ]
  }
 ],
 "metadata": {
  "kernelspec": {
   "display_name": "Python 3.8.3 ('base')",
   "language": "python",
   "name": "python3"
  },
  "language_info": {
   "codemirror_mode": {
    "name": "ipython",
    "version": 3
   },
   "file_extension": ".py",
   "mimetype": "text/x-python",
   "name": "python",
   "nbconvert_exporter": "python",
   "pygments_lexer": "ipython3",
   "version": "3.8.3"
  },
  "orig_nbformat": 4,
  "vscode": {
   "interpreter": {
    "hash": "b237fbb5c931b2d79402a5279ee8b814e811b1754177f6af3e8ca9c69a245e5d"
   }
  }
 },
 "nbformat": 4,
 "nbformat_minor": 2
}
