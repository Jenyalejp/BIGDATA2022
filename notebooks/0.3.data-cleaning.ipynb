{
 "cells": [
  {
   "cell_type": "code",
   "execution_count": null,
   "metadata": {},
   "outputs": [],
   "source": []
  },
  {
   "cell_type": "code",
   "execution_count": 76,
   "metadata": {},
   "outputs": [],
   "source": [
    "# importar librerias para manipulacion de datos\n",
    "import numpy  as np\n",
    "import pandas as pd\n",
    "\n",
    "# importar librerias para visualizacion\n",
    "import matplotlib.pyplot as plt\n",
    "\n",
    "\n",
    "# importar librerias internas del sistema\n",
    "import os\n",
    "from pathlib import Path"
   ]
  },
  {
   "cell_type": "code",
   "execution_count": 77,
   "metadata": {},
   "outputs": [
    {
     "data": {
      "text/plain": [
       "'C:\\\\Users\\\\Fabio\\\\OneDrive\\\\Documentos\\\\Jenny\\\\BIG DATA\\\\BIGDATA2022\\\\data\\\\raw\\\\llamadas123_julio_2022.csv'"
      ]
     },
     "execution_count": 77,
     "metadata": {},
     "output_type": "execute_result"
    }
   ],
   "source": [
    "root_dir = Path(\".\").resolve().parent #para ubicacion de archivo # para devolver a la carpeta principal\n",
    "filename= 'llamadas123_julio_2022.csv'\n",
    "\n",
    "file_path = os.path.join(root_dir,\"data\",\"raw\",filename)\n",
    "file_path"
   ]
  },
  {
   "cell_type": "code",
   "execution_count": 78,
   "metadata": {},
   "outputs": [
    {
     "name": "stdout",
     "output_type": "stream",
     "text": [
      "llamadas123_julio_2022.csv <class 'str'>\n",
      "C:\\Users\\Fabio\\OneDrive\\Documentos\\Jenny\\BIG DATA\\BIGDATA2022\\data\\raw <class 'str'>\n"
     ]
    }
   ],
   "source": [
    "# Obtener la ruta donde leer los archivos de datos\n",
    "filename = \"llamadas123_julio_2022.csv\"\n",
    "dir_data = os.path.join(root_dir, \"data\", \"raw\")\n",
    "\n",
    "\n",
    "print(filename, type(filename))\n",
    "print(dir_data, type(dir_data))"
   ]
  },
  {
   "cell_type": "code",
   "execution_count": 79,
   "metadata": {},
   "outputs": [
    {
     "data": {
      "text/html": [
       "<div>\n",
       "<style scoped>\n",
       "    .dataframe tbody tr th:only-of-type {\n",
       "        vertical-align: middle;\n",
       "    }\n",
       "\n",
       "    .dataframe tbody tr th {\n",
       "        vertical-align: top;\n",
       "    }\n",
       "\n",
       "    .dataframe thead th {\n",
       "        text-align: right;\n",
       "    }\n",
       "</style>\n",
       "<table border=\"1\" class=\"dataframe\">\n",
       "  <thead>\n",
       "    <tr style=\"text-align: right;\">\n",
       "      <th></th>\n",
       "      <th>NUMERO_INCIDENTE</th>\n",
       "      <th>FECHA_INICIO_DESPLAZAMIENTO_MOVIL</th>\n",
       "      <th>CODIGO_LOCALIDAD</th>\n",
       "      <th>LOCALIDAD</th>\n",
       "      <th>EDAD</th>\n",
       "      <th>UNIDAD</th>\n",
       "      <th>GENERO</th>\n",
       "      <th>RED</th>\n",
       "      <th>TIPO_INCIDENTE</th>\n",
       "      <th>PRIORIDAD</th>\n",
       "      <th>RECEPCION</th>\n",
       "    </tr>\n",
       "  </thead>\n",
       "  <tbody>\n",
       "    <tr>\n",
       "      <th>0</th>\n",
       "      <td>CRU-00278353-22</td>\n",
       "      <td>2022-07-01 00:08:59</td>\n",
       "      <td>11</td>\n",
       "      <td>Suba</td>\n",
       "      <td>88</td>\n",
       "      <td>A¤os</td>\n",
       "      <td>FEMENINO</td>\n",
       "      <td>Norte</td>\n",
       "      <td>Accidente Cerebro Vascular</td>\n",
       "      <td>ALTA</td>\n",
       "      <td>2022-07-01 03:40:13</td>\n",
       "    </tr>\n",
       "    <tr>\n",
       "      <th>1</th>\n",
       "      <td>CRU-00278360-22</td>\n",
       "      <td>2022-07-01 00:14:58</td>\n",
       "      <td>11</td>\n",
       "      <td>Suba</td>\n",
       "      <td>16</td>\n",
       "      <td>A¤os</td>\n",
       "      <td>MASCULINO</td>\n",
       "      <td>Norte</td>\n",
       "      <td>Herido</td>\n",
       "      <td>ALTA</td>\n",
       "      <td>2022-07-01 03:38:13</td>\n",
       "    </tr>\n",
       "    <tr>\n",
       "      <th>2</th>\n",
       "      <td>CRU-00278365-22</td>\n",
       "      <td>2022-07-01 00:21:59</td>\n",
       "      <td>18</td>\n",
       "      <td>Rafael Uribe Uribe</td>\n",
       "      <td>52</td>\n",
       "      <td>A¤os</td>\n",
       "      <td>FEMENINO</td>\n",
       "      <td>Centro Oriente</td>\n",
       "      <td>Evento Respiratorio</td>\n",
       "      <td>CRITICA</td>\n",
       "      <td>2022-07-01 04:08:24</td>\n",
       "    </tr>\n",
       "    <tr>\n",
       "      <th>3</th>\n",
       "      <td>CRU-00278370-22</td>\n",
       "      <td>2022-07-01 00:38:38</td>\n",
       "      <td>19</td>\n",
       "      <td>Ciudad Bol¡var</td>\n",
       "      <td>SIN_DATO</td>\n",
       "      <td>SIN_DATO</td>\n",
       "      <td>SIN_DATO</td>\n",
       "      <td>Privada</td>\n",
       "      <td>Herido</td>\n",
       "      <td>ALTA</td>\n",
       "      <td>0000-00-00 00:00:00</td>\n",
       "    </tr>\n",
       "    <tr>\n",
       "      <th>4</th>\n",
       "      <td>CRU-00278372-22</td>\n",
       "      <td>2022-07-01 00:53:32</td>\n",
       "      <td>1</td>\n",
       "      <td>Usaqun</td>\n",
       "      <td>33</td>\n",
       "      <td>A¤os</td>\n",
       "      <td>MASCULINO</td>\n",
       "      <td>Norte</td>\n",
       "      <td>Intento de Suicidio</td>\n",
       "      <td>ALTA</td>\n",
       "      <td>2022-07-01 03:25:29</td>\n",
       "    </tr>\n",
       "  </tbody>\n",
       "</table>\n",
       "</div>"
      ],
      "text/plain": [
       "  NUMERO_INCIDENTE FECHA_INICIO_DESPLAZAMIENTO_MOVIL  CODIGO_LOCALIDAD  \\\n",
       "0  CRU-00278353-22               2022-07-01 00:08:59                11   \n",
       "1  CRU-00278360-22               2022-07-01 00:14:58                11   \n",
       "2  CRU-00278365-22               2022-07-01 00:21:59                18   \n",
       "3  CRU-00278370-22               2022-07-01 00:38:38                19   \n",
       "4  CRU-00278372-22               2022-07-01 00:53:32                 1   \n",
       "\n",
       "            LOCALIDAD      EDAD    UNIDAD     GENERO             RED  \\\n",
       "0                Suba        88      A¤os   FEMENINO           Norte   \n",
       "1                Suba        16      A¤os  MASCULINO           Norte   \n",
       "2  Rafael Uribe Uribe        52      A¤os   FEMENINO  Centro Oriente   \n",
       "3      Ciudad Bol¡var  SIN_DATO  SIN_DATO   SIN_DATO         Privada   \n",
       "4             Usaqun        33      A¤os  MASCULINO           Norte   \n",
       "\n",
       "               TIPO_INCIDENTE PRIORIDAD            RECEPCION  \n",
       "0  Accidente Cerebro Vascular      ALTA  2022-07-01 03:40:13  \n",
       "1                      Herido      ALTA  2022-07-01 03:38:13  \n",
       "2         Evento Respiratorio   CRITICA  2022-07-01 04:08:24  \n",
       "3                      Herido      ALTA  0000-00-00 00:00:00  \n",
       "4         Intento de Suicidio      ALTA  2022-07-01 03:25:29  "
      ]
     },
     "execution_count": 79,
     "metadata": {},
     "output_type": "execute_result"
    }
   ],
   "source": [
    "# Leer archivo de datos con extension CSV\n",
    "data = pd.read_csv(\n",
    "    os.path.join(dir_data , filename),\n",
    "    sep = ';',\n",
    "    encoding = 'latin-1'\n",
    ")\n",
    "\n",
    "data.head()"
   ]
  },
  {
   "cell_type": "code",
   "execution_count": 80,
   "metadata": {},
   "outputs": [
    {
     "name": "stdout",
     "output_type": "stream",
     "text": [
      "forma inicial (13055, 11)\n",
      "forma final (13026, 11)\n"
     ]
    }
   ],
   "source": [
    "#Eliminar registros duplicados\n",
    "print ('forma inicial',data.shape)\n",
    "data = data.drop_duplicates() # drop desechar duplicados desde pandas\n",
    "data.reset_index(inplace=True, drop=True) #Elimina columas dulicadas desde el indice\n",
    "print('forma final', data.shape)"
   ]
  },
  {
   "cell_type": "code",
   "execution_count": 81,
   "metadata": {},
   "outputs": [
    {
     "name": "stdout",
     "output_type": "stream",
     "text": [
      "<class 'pandas.core.frame.DataFrame'>\n",
      "RangeIndex: 13026 entries, 0 to 13025\n",
      "Data columns (total 11 columns):\n",
      " #   Column                             Non-Null Count  Dtype \n",
      "---  ------                             --------------  ----- \n",
      " 0   NUMERO_INCIDENTE                   13026 non-null  object\n",
      " 1   FECHA_INICIO_DESPLAZAMIENTO_MOVIL  13026 non-null  object\n",
      " 2   CODIGO_LOCALIDAD                   13026 non-null  int64 \n",
      " 3   LOCALIDAD                          13026 non-null  object\n",
      " 4   EDAD                               13026 non-null  object\n",
      " 5   UNIDAD                             13018 non-null  object\n",
      " 6   GENERO                             13026 non-null  object\n",
      " 7   RED                                13026 non-null  object\n",
      " 8   TIPO_INCIDENTE                     13026 non-null  object\n",
      " 9   PRIORIDAD                          13026 non-null  object\n",
      " 10  RECEPCION                          13026 non-null  object\n",
      "dtypes: int64(1), object(10)\n",
      "memory usage: 1.1+ MB\n"
     ]
    }
   ],
   "source": [
    "#obtener informacion de la tabla\n",
    "data.info()#obtengo el esquema de la tabla"
   ]
  },
  {
   "cell_type": "code",
   "execution_count": 82,
   "metadata": {},
   "outputs": [
    {
     "data": {
      "text/plain": [
       "A¤os        0.520574\n",
       "SIN_DATO    0.475587\n",
       "Meses       0.002994\n",
       "Horas       0.000461\n",
       "Dias        0.000384\n",
       "Name: UNIDAD, dtype: float64"
      ]
     },
     "execution_count": 82,
     "metadata": {},
     "output_type": "execute_result"
    }
   ],
   "source": [
    "#Tratamiento de valores nulos\n",
    "#nulo de string = sin_dato - n/a\n",
    "#nulo numeros = numpy utilizar funcion nan(not_asigned_name) (np.nan)\n",
    "#nulo de fechas = nat (not_asigned_time)\n",
    "\n",
    "col = 'UNIDAD'\n",
    "# data [col].value_counts(dropna=False, normalize=True) ---- # dropna = mostrar nulos (dropna=false, no ignorar los nulos) - normalize = porcentualizar la frecuencia de repeticion de los datos\n",
    "data [col].fillna('SIN_DATO', inplace=True) #fillna (incluye a una variable definida nombrandola coo campo ya establecido en)\n",
    "data [col].value_counts(dropna=False, normalize=True)\n",
    "\n"
   ]
  },
  {
   "cell_type": "code",
   "execution_count": 83,
   "metadata": {},
   "outputs": [
    {
     "data": {
      "text/html": [
       "<div>\n",
       "<style scoped>\n",
       "    .dataframe tbody tr th:only-of-type {\n",
       "        vertical-align: middle;\n",
       "    }\n",
       "\n",
       "    .dataframe tbody tr th {\n",
       "        vertical-align: top;\n",
       "    }\n",
       "\n",
       "    .dataframe thead th {\n",
       "        text-align: right;\n",
       "    }\n",
       "</style>\n",
       "<table border=\"1\" class=\"dataframe\">\n",
       "  <thead>\n",
       "    <tr style=\"text-align: right;\">\n",
       "      <th></th>\n",
       "      <th>NUMERO_INCIDENTE</th>\n",
       "      <th>FECHA_INICIO_DESPLAZAMIENTO_MOVIL</th>\n",
       "      <th>CODIGO_LOCALIDAD</th>\n",
       "      <th>LOCALIDAD</th>\n",
       "      <th>EDAD</th>\n",
       "      <th>UNIDAD</th>\n",
       "      <th>GENERO</th>\n",
       "      <th>RED</th>\n",
       "      <th>TIPO_INCIDENTE</th>\n",
       "      <th>PRIORIDAD</th>\n",
       "      <th>RECEPCION</th>\n",
       "    </tr>\n",
       "  </thead>\n",
       "  <tbody>\n",
       "    <tr>\n",
       "      <th>0</th>\n",
       "      <td>CRU-00278353-22</td>\n",
       "      <td>2022-07-01 00:08:59</td>\n",
       "      <td>11</td>\n",
       "      <td>Suba</td>\n",
       "      <td>88</td>\n",
       "      <td>A¤os</td>\n",
       "      <td>FEMENINO</td>\n",
       "      <td>Norte</td>\n",
       "      <td>Accidente Cerebro Vascular</td>\n",
       "      <td>ALTA</td>\n",
       "      <td>2022-07-01 03:40:13</td>\n",
       "    </tr>\n",
       "    <tr>\n",
       "      <th>1</th>\n",
       "      <td>CRU-00278360-22</td>\n",
       "      <td>2022-07-01 00:14:58</td>\n",
       "      <td>11</td>\n",
       "      <td>Suba</td>\n",
       "      <td>16</td>\n",
       "      <td>A¤os</td>\n",
       "      <td>MASCULINO</td>\n",
       "      <td>Norte</td>\n",
       "      <td>Herido</td>\n",
       "      <td>ALTA</td>\n",
       "      <td>2022-07-01 03:38:13</td>\n",
       "    </tr>\n",
       "    <tr>\n",
       "      <th>2</th>\n",
       "      <td>CRU-00278365-22</td>\n",
       "      <td>2022-07-01 00:21:59</td>\n",
       "      <td>18</td>\n",
       "      <td>Rafael Uribe Uribe</td>\n",
       "      <td>52</td>\n",
       "      <td>A¤os</td>\n",
       "      <td>FEMENINO</td>\n",
       "      <td>Centro Oriente</td>\n",
       "      <td>Evento Respiratorio</td>\n",
       "      <td>CRITICA</td>\n",
       "      <td>2022-07-01 04:08:24</td>\n",
       "    </tr>\n",
       "    <tr>\n",
       "      <th>3</th>\n",
       "      <td>CRU-00278370-22</td>\n",
       "      <td>2022-07-01 00:38:38</td>\n",
       "      <td>19</td>\n",
       "      <td>Ciudad Bol¡var</td>\n",
       "      <td>SIN_DATO</td>\n",
       "      <td>SIN_DATO</td>\n",
       "      <td>SIN_DATO</td>\n",
       "      <td>Privada</td>\n",
       "      <td>Herido</td>\n",
       "      <td>ALTA</td>\n",
       "      <td>0000-00-00 00:00:00</td>\n",
       "    </tr>\n",
       "    <tr>\n",
       "      <th>4</th>\n",
       "      <td>CRU-00278372-22</td>\n",
       "      <td>2022-07-01 00:53:32</td>\n",
       "      <td>1</td>\n",
       "      <td>Usaqun</td>\n",
       "      <td>33</td>\n",
       "      <td>A¤os</td>\n",
       "      <td>MASCULINO</td>\n",
       "      <td>Norte</td>\n",
       "      <td>Intento de Suicidio</td>\n",
       "      <td>ALTA</td>\n",
       "      <td>2022-07-01 03:25:29</td>\n",
       "    </tr>\n",
       "  </tbody>\n",
       "</table>\n",
       "</div>"
      ],
      "text/plain": [
       "  NUMERO_INCIDENTE FECHA_INICIO_DESPLAZAMIENTO_MOVIL  CODIGO_LOCALIDAD  \\\n",
       "0  CRU-00278353-22               2022-07-01 00:08:59                11   \n",
       "1  CRU-00278360-22               2022-07-01 00:14:58                11   \n",
       "2  CRU-00278365-22               2022-07-01 00:21:59                18   \n",
       "3  CRU-00278370-22               2022-07-01 00:38:38                19   \n",
       "4  CRU-00278372-22               2022-07-01 00:53:32                 1   \n",
       "\n",
       "            LOCALIDAD      EDAD    UNIDAD     GENERO             RED  \\\n",
       "0                Suba        88      A¤os   FEMENINO           Norte   \n",
       "1                Suba        16      A¤os  MASCULINO           Norte   \n",
       "2  Rafael Uribe Uribe        52      A¤os   FEMENINO  Centro Oriente   \n",
       "3      Ciudad Bol¡var  SIN_DATO  SIN_DATO   SIN_DATO         Privada   \n",
       "4             Usaqun        33      A¤os  MASCULINO           Norte   \n",
       "\n",
       "               TIPO_INCIDENTE PRIORIDAD            RECEPCION  \n",
       "0  Accidente Cerebro Vascular      ALTA  2022-07-01 03:40:13  \n",
       "1                      Herido      ALTA  2022-07-01 03:38:13  \n",
       "2         Evento Respiratorio   CRITICA  2022-07-01 04:08:24  \n",
       "3                      Herido      ALTA  0000-00-00 00:00:00  \n",
       "4         Intento de Suicidio      ALTA  2022-07-01 03:25:29  "
      ]
     },
     "execution_count": 83,
     "metadata": {},
     "output_type": "execute_result"
    }
   ],
   "source": [
    "data.head() #traer los 5 primeros datos de la tabla"
   ]
  },
  {
   "cell_type": "code",
   "execution_count": 84,
   "metadata": {},
   "outputs": [
    {
     "data": {
      "text/plain": [
       "Timestamp('2022-07-01 00:08:59')"
      ]
     },
     "execution_count": 84,
     "metadata": {},
     "output_type": "execute_result"
    }
   ],
   "source": [
    "fecha = '2022-07-01 00:08:59'\n",
    "pd.to_datetime(fecha)"
   ]
  },
  {
   "cell_type": "code",
   "execution_count": 85,
   "metadata": {},
   "outputs": [
    {
     "data": {
      "text/plain": [
       "NaT"
      ]
     },
     "execution_count": 85,
     "metadata": {},
     "output_type": "execute_result"
    }
   ],
   "source": [
    "fecha = ' 0000-00-00 00:00:00'\n",
    "pd.to_datetime(fecha, errors='coerce', format= '%Y/%m/%d')"
   ]
  },
  {
   "cell_type": "code",
   "execution_count": 86,
   "metadata": {},
   "outputs": [
    {
     "data": {
      "text/plain": [
       "0        2022-07-01 00:08:59\n",
       "1        2022-07-01 00:14:58\n",
       "2        2022-07-01 00:21:59\n",
       "3        2022-07-01 00:38:38\n",
       "4        2022-07-01 00:53:32\n",
       "                ...         \n",
       "13021    2022-08-08 05:31:48\n",
       "13022    2022-08-08 10:38:32\n",
       "13023    2022-08-08 11:23:01\n",
       "13024    2022-08-08 11:23:01\n",
       "13025    0000-00-00 00:00:00\n",
       "Name: FECHA_INICIO_DESPLAZAMIENTO_MOVIL, Length: 13026, dtype: object"
      ]
     },
     "execution_count": 86,
     "metadata": {},
     "output_type": "execute_result"
    }
   ],
   "source": [
    "col='FECHA_INICIO_DESPLAZAMIENTO_MOVIL'\n",
    "data[col] #verificar como vienen los datos de la columna de fechas"
   ]
  },
  {
   "cell_type": "code",
   "execution_count": 87,
   "metadata": {},
   "outputs": [
    {
     "data": {
      "text/plain": [
       "Timestamp('1985-12-03 00:00:00')"
      ]
     },
     "execution_count": 87,
     "metadata": {},
     "output_type": "execute_result"
    }
   ],
   "source": [
    "fecha = '1985-12-03 00:00:00'\n",
    "pd.to_datetime(fecha,errors='coerce', format ='%Y/%m/%d')#no asignarle nada si se encuentra en ese formato \n",
    "#y asignarle un formato de fecha para verificar si es una fecha correcta o es un NaT"
   ]
  },
  {
   "cell_type": "code",
   "execution_count": 88,
   "metadata": {},
   "outputs": [
    {
     "name": "stdout",
     "output_type": "stream",
     "text": [
      "<class 'pandas.core.frame.DataFrame'>\n",
      "RangeIndex: 13026 entries, 0 to 13025\n",
      "Data columns (total 11 columns):\n",
      " #   Column                             Non-Null Count  Dtype         \n",
      "---  ------                             --------------  -----         \n",
      " 0   NUMERO_INCIDENTE                   13026 non-null  object        \n",
      " 1   FECHA_INICIO_DESPLAZAMIENTO_MOVIL  13025 non-null  datetime64[ns]\n",
      " 2   CODIGO_LOCALIDAD                   13026 non-null  int64         \n",
      " 3   LOCALIDAD                          13026 non-null  object        \n",
      " 4   EDAD                               13026 non-null  object        \n",
      " 5   UNIDAD                             13026 non-null  object        \n",
      " 6   GENERO                             13026 non-null  object        \n",
      " 7   RED                                13026 non-null  object        \n",
      " 8   TIPO_INCIDENTE                     13026 non-null  object        \n",
      " 9   PRIORIDAD                          13026 non-null  object        \n",
      " 10  RECEPCION                          13026 non-null  object        \n",
      "dtypes: datetime64[ns](1), int64(1), object(9)\n",
      "memory usage: 1.1+ MB\n"
     ]
    }
   ],
   "source": [
    "col='FECHA_INICIO_DESPLAZAMIENTO_MOVIL'\n",
    "data[col] = pd.to_datetime(data[col],errors='coerce') #cambiar el tipo de dato string a fecha\n",
    "data.info()"
   ]
  },
  {
   "cell_type": "code",
   "execution_count": 89,
   "metadata": {},
   "outputs": [
    {
     "data": {
      "text/plain": [
       "SIN_DATO    0.474973\n",
       "23          0.011515\n",
       "22          0.010748\n",
       "27          0.010287\n",
       "30          0.010287\n",
       "              ...   \n",
       "7           0.001305\n",
       "98          0.001228\n",
       "9           0.001152\n",
       "8           0.001075\n",
       "97          0.000921\n",
       "Name: EDAD, Length: 100, dtype: float64"
      ]
     },
     "execution_count": 89,
     "metadata": {},
     "output_type": "execute_result"
    }
   ],
   "source": [
    "col='EDAD'\n",
    "data[col].value_counts(dropna=False, normalize =True) \n",
    "#verificar como vienen los datos de la columna de EDAD y nos damos cuenta que vienen algunos sin datos"
   ]
  },
  {
   "cell_type": "code",
   "execution_count": 90,
   "metadata": {},
   "outputs": [
    {
     "data": {
      "text/plain": [
       "0         88\n",
       "1         16\n",
       "2         52\n",
       "3        NaN\n",
       "4         33\n",
       "        ... \n",
       "13021     18\n",
       "13022    NaN\n",
       "13023     11\n",
       "13024     19\n",
       "13025    NaN\n",
       "Name: EDAD, Length: 13026, dtype: object"
      ]
     },
     "execution_count": 90,
     "metadata": {},
     "output_type": "execute_result"
    }
   ],
   "source": [
    "col='EDAD'\n",
    "data[col].replace({'SIN_DATO': np.nan}, inplace =True) #reemplaza las de SIN_DATE por nan sin numero asignado\n",
    "data[col]"
   ]
  },
  {
   "cell_type": "code",
   "execution_count": 91,
   "metadata": {},
   "outputs": [
    {
     "data": {
      "text/plain": [
       "23    150\n",
       "22    140\n",
       "27    134\n",
       "30    134\n",
       "26    133\n",
       "     ... \n",
       "7      17\n",
       "98     16\n",
       "9      15\n",
       "8      14\n",
       "97     12\n",
       "Name: EDAD, Length: 99, dtype: int64"
      ]
     },
     "execution_count": 91,
     "metadata": {},
     "output_type": "execute_result"
    }
   ],
   "source": [
    "data[col].value_counts() #arroja que el caracter 23 tiene 150 registros"
   ]
  },
  {
   "cell_type": "code",
   "execution_count": 92,
   "metadata": {},
   "outputs": [
    {
     "data": {
      "text/plain": [
       "array(['88', '16', '52', nan, '33', '57', '65', '14', '83', '35', '19',\n",
       "       '53', '56', '45', '2', '18', '34', '84', '80', '7', '64', '41',\n",
       "       '28', '23', '85', '92', '38', '11', '58', '70', '50', '27', '67',\n",
       "       '54', '87', '24', '90', '99', '49', '91', '21', '62', '59', '26',\n",
       "       '78', '30', '32', '51', '15', '79', '37', '60', '76', '22', '47',\n",
       "       '61', '82', '86', '77', '63', '39', '89', '36', '97', '40', '75',\n",
       "       '13', '25', '73', '69', '72', '68', '44', '31', '74', '81', '43',\n",
       "       '20', '66', '10', '48', '29', '8', '17', '94', '55', '1', '4', '3',\n",
       "       '9', '71', '46', '6', '95', '93', '98', '96', '42', '5', '12'],\n",
       "      dtype=object)"
      ]
     },
     "execution_count": 92,
     "metadata": {},
     "output_type": "execute_result"
    }
   ],
   "source": [
    "data[col].unique() #me muestra cada rato como unico y en comillas que es un string"
   ]
  },
  {
   "cell_type": "code",
   "execution_count": 93,
   "metadata": {},
   "outputs": [
    {
     "data": {
      "text/plain": [
       "16"
      ]
     },
     "execution_count": 93,
     "metadata": {},
     "output_type": "execute_result"
    }
   ],
   "source": [
    "#funciones lambda \n",
    "# para escribir una funcion en una sola linea y no un script largo, para script pequeños u operaciones sencillas\n",
    "\n",
    "#funcion larga declarando variables\n",
    "def f(x):\n",
    "        resultado = x**2 #que quiero que haga la funcion\n",
    "        return resultado #la funcion que quiero que me retorne\n",
    "\n",
    "x=4 # cual es el resultado de esta operacion\n",
    "f(x)\n"
   ]
  },
  {
   "cell_type": "code",
   "execution_count": 94,
   "metadata": {},
   "outputs": [
    {
     "data": {
      "text/plain": [
       "28"
      ]
     },
     "execution_count": 94,
     "metadata": {},
     "output_type": "execute_result"
    }
   ],
   "source": [
    "#funciones lambda \n",
    "# para escribir una funcion en una sola linea y no un script largo, para script pequeños u operaciones sencillas\n",
    "\n",
    "#funcion corta sin declarar variables\n",
    "str_num ='28'\n",
    "f = lambda x: x if pd.isna(x) else int(x) #definimos la funcion f para que si es nulo ponga x o si no ponga entero de f\n",
    "f(str_num)\n",
    "\n"
   ]
  },
  {
   "cell_type": "code",
   "execution_count": 95,
   "metadata": {},
   "outputs": [
    {
     "name": "stdout",
     "output_type": "stream",
     "text": [
      "<class 'pandas.core.frame.DataFrame'>\n",
      "RangeIndex: 13026 entries, 0 to 13025\n",
      "Data columns (total 11 columns):\n",
      " #   Column                             Non-Null Count  Dtype         \n",
      "---  ------                             --------------  -----         \n",
      " 0   NUMERO_INCIDENTE                   13026 non-null  object        \n",
      " 1   FECHA_INICIO_DESPLAZAMIENTO_MOVIL  13025 non-null  datetime64[ns]\n",
      " 2   CODIGO_LOCALIDAD                   13026 non-null  int64         \n",
      " 3   LOCALIDAD                          13026 non-null  object        \n",
      " 4   EDAD                               6839 non-null   float64       \n",
      " 5   UNIDAD                             13026 non-null  object        \n",
      " 6   GENERO                             13026 non-null  object        \n",
      " 7   RED                                13026 non-null  object        \n",
      " 8   TIPO_INCIDENTE                     13026 non-null  object        \n",
      " 9   PRIORIDAD                          13026 non-null  object        \n",
      " 10  RECEPCION                          13026 non-null  object        \n",
      "dtypes: datetime64[ns](1), float64(1), int64(1), object(8)\n",
      "memory usage: 1.1+ MB\n"
     ]
    }
   ],
   "source": [
    "#aplicar una funcion a una columna\n",
    "data[col] = data[col].apply(f)#para cambiar el tipo de dato de la columna EDAD de object a float\n",
    "data.info()"
   ]
  },
  {
   "cell_type": "code",
   "execution_count": 96,
   "metadata": {},
   "outputs": [
    {
     "data": {
      "text/plain": [
       "0        2022-07-01 03:40:13\n",
       "1        2022-07-01 03:38:13\n",
       "2        2022-07-01 04:08:24\n",
       "3        0000-00-00 00:00:00\n",
       "4        2022-07-01 03:25:29\n",
       "                ...         \n",
       "13021         8/08/2022 6:48\n",
       "13022    0000-00-00 00:00:00\n",
       "13023        9/08/2022 13:13\n",
       "13024    0000-00-00 00:00:00\n",
       "13025    0000-00-00 00:00:00\n",
       "Name: RECEPCION, Length: 13026, dtype: object"
      ]
     },
     "execution_count": 96,
     "metadata": {},
     "output_type": "execute_result"
    }
   ],
   "source": [
    "col='RECEPCION'\n",
    "data[col] #verificar los datos de esa columna"
   ]
  },
  {
   "cell_type": "code",
   "execution_count": 97,
   "metadata": {},
   "outputs": [
    {
     "data": {
      "text/plain": [
       "datetime.datetime(2021, 5, 29, 0, 0)"
      ]
     },
     "execution_count": 97,
     "metadata": {},
     "output_type": "execute_result"
    }
   ],
   "source": [
    "#mas de datetimes\n",
    "\n",
    "from dateutil.parser import parse\n",
    "\n",
    "fecha= 'may 29th 2021'\n",
    "pd.to_datetime(fecha)\n",
    "parse(fecha)"
   ]
  },
  {
   "cell_type": "code",
   "execution_count": 98,
   "metadata": {},
   "outputs": [
    {
     "name": "stdout",
     "output_type": "stream",
     "text": [
      "BigData\n"
     ]
    }
   ],
   "source": [
    "#strings\n",
    "word2 = 'BigData' #correcto\n",
    "word1 = ' BigData' #incorrecto con espacios en blanco\n",
    "print(word1.strip()) #quita los espacios en blanco"
   ]
  },
  {
   "cell_type": "code",
   "execution_count": 99,
   "metadata": {},
   "outputs": [
    {
     "data": {
      "text/plain": [
       "'BigData'"
      ]
     },
     "execution_count": 99,
     "metadata": {},
     "output_type": "execute_result"
    }
   ],
   "source": [
    "#strings\n",
    "word2 = 'BigData' #correcto\n",
    "word1 = ' BigData' #incorrecto con espacios en blanco\n",
    "word1.replace(' ','') #quita los espacios en blanco"
   ]
  },
  {
   "cell_type": "code",
   "execution_count": 100,
   "metadata": {},
   "outputs": [
    {
     "data": {
      "text/plain": [
       "'bigdata'"
      ]
     },
     "execution_count": 100,
     "metadata": {},
     "output_type": "execute_result"
    }
   ],
   "source": [
    "#strings\n",
    "word2 = 'BigData' #correcto\n",
    "word2.lower() #convierte en minusculas"
   ]
  },
  {
   "cell_type": "code",
   "execution_count": 101,
   "metadata": {},
   "outputs": [
    {
     "data": {
      "text/plain": [
       "'BIGDATA'"
      ]
     },
     "execution_count": 101,
     "metadata": {},
     "output_type": "execute_result"
    }
   ],
   "source": [
    "#strings\n",
    "word2 = 'BigData' #correcto\n",
    "word2.upper() #convierte en mayusculas"
   ]
  },
  {
   "cell_type": "code",
   "execution_count": 102,
   "metadata": {},
   "outputs": [
    {
     "data": {
      "text/plain": [
       "'Bigdata'"
      ]
     },
     "execution_count": 102,
     "metadata": {},
     "output_type": "execute_result"
    }
   ],
   "source": [
    "#strings\n",
    "word2 = 'BigData' #correcto\n",
    "word2.capitalize() #pone la primera en mayusculas y las demas en minusculas"
   ]
  },
  {
   "cell_type": "code",
   "execution_count": 103,
   "metadata": {},
   "outputs": [
    {
     "data": {
      "text/html": [
       "<div>\n",
       "<style scoped>\n",
       "    .dataframe tbody tr th:only-of-type {\n",
       "        vertical-align: middle;\n",
       "    }\n",
       "\n",
       "    .dataframe tbody tr th {\n",
       "        vertical-align: top;\n",
       "    }\n",
       "\n",
       "    .dataframe thead th {\n",
       "        text-align: right;\n",
       "    }\n",
       "</style>\n",
       "<table border=\"1\" class=\"dataframe\">\n",
       "  <thead>\n",
       "    <tr style=\"text-align: right;\">\n",
       "      <th></th>\n",
       "      <th>NUMERO_INCIDENTE</th>\n",
       "      <th>FECHA_INICIO_DESPLAZAMIENTO_MOVIL</th>\n",
       "      <th>CODIGO_LOCALIDAD</th>\n",
       "      <th>LOCALIDAD</th>\n",
       "      <th>EDAD</th>\n",
       "      <th>UNIDAD</th>\n",
       "      <th>GENERO</th>\n",
       "      <th>RED</th>\n",
       "      <th>TIPO_INCIDENTE</th>\n",
       "      <th>PRIORIDAD</th>\n",
       "      <th>RECEPCION</th>\n",
       "      <th>RECEPCION_CORREGIDA</th>\n",
       "    </tr>\n",
       "  </thead>\n",
       "  <tbody>\n",
       "    <tr>\n",
       "      <th>0</th>\n",
       "      <td>CRU-00278353-22</td>\n",
       "      <td>2022-07-01 00:08:59</td>\n",
       "      <td>11</td>\n",
       "      <td>Suba</td>\n",
       "      <td>88.0</td>\n",
       "      <td>A¤os</td>\n",
       "      <td>FEMENINO</td>\n",
       "      <td>Norte</td>\n",
       "      <td>Accidente Cerebro Vascular</td>\n",
       "      <td>ALTA</td>\n",
       "      <td>2022-07-01 03:40:13</td>\n",
       "      <td>2022-07-01 03:40:13</td>\n",
       "    </tr>\n",
       "    <tr>\n",
       "      <th>1</th>\n",
       "      <td>CRU-00278360-22</td>\n",
       "      <td>2022-07-01 00:14:58</td>\n",
       "      <td>11</td>\n",
       "      <td>Suba</td>\n",
       "      <td>16.0</td>\n",
       "      <td>A¤os</td>\n",
       "      <td>MASCULINO</td>\n",
       "      <td>Norte</td>\n",
       "      <td>Herido</td>\n",
       "      <td>ALTA</td>\n",
       "      <td>2022-07-01 03:38:13</td>\n",
       "      <td>2022-07-01 03:38:13</td>\n",
       "    </tr>\n",
       "    <tr>\n",
       "      <th>2</th>\n",
       "      <td>CRU-00278365-22</td>\n",
       "      <td>2022-07-01 00:21:59</td>\n",
       "      <td>18</td>\n",
       "      <td>Rafael Uribe Uribe</td>\n",
       "      <td>52.0</td>\n",
       "      <td>A¤os</td>\n",
       "      <td>FEMENINO</td>\n",
       "      <td>Centro Oriente</td>\n",
       "      <td>Evento Respiratorio</td>\n",
       "      <td>CRITICA</td>\n",
       "      <td>2022-07-01 04:08:24</td>\n",
       "      <td>2022-07-01 04:08:24</td>\n",
       "    </tr>\n",
       "    <tr>\n",
       "      <th>3</th>\n",
       "      <td>CRU-00278370-22</td>\n",
       "      <td>2022-07-01 00:38:38</td>\n",
       "      <td>19</td>\n",
       "      <td>Ciudad Bol¡var</td>\n",
       "      <td>NaN</td>\n",
       "      <td>SIN_DATO</td>\n",
       "      <td>SIN_DATO</td>\n",
       "      <td>Privada</td>\n",
       "      <td>Herido</td>\n",
       "      <td>ALTA</td>\n",
       "      <td>0000-00-00 00:00:00</td>\n",
       "      <td>NaT</td>\n",
       "    </tr>\n",
       "    <tr>\n",
       "      <th>4</th>\n",
       "      <td>CRU-00278372-22</td>\n",
       "      <td>2022-07-01 00:53:32</td>\n",
       "      <td>1</td>\n",
       "      <td>Usaqun</td>\n",
       "      <td>33.0</td>\n",
       "      <td>A¤os</td>\n",
       "      <td>MASCULINO</td>\n",
       "      <td>Norte</td>\n",
       "      <td>Intento de Suicidio</td>\n",
       "      <td>ALTA</td>\n",
       "      <td>2022-07-01 03:25:29</td>\n",
       "      <td>2022-07-01 03:25:29</td>\n",
       "    </tr>\n",
       "  </tbody>\n",
       "</table>\n",
       "</div>"
      ],
      "text/plain": [
       "  NUMERO_INCIDENTE FECHA_INICIO_DESPLAZAMIENTO_MOVIL  CODIGO_LOCALIDAD  \\\n",
       "0  CRU-00278353-22               2022-07-01 00:08:59                11   \n",
       "1  CRU-00278360-22               2022-07-01 00:14:58                11   \n",
       "2  CRU-00278365-22               2022-07-01 00:21:59                18   \n",
       "3  CRU-00278370-22               2022-07-01 00:38:38                19   \n",
       "4  CRU-00278372-22               2022-07-01 00:53:32                 1   \n",
       "\n",
       "            LOCALIDAD  EDAD    UNIDAD     GENERO             RED  \\\n",
       "0                Suba  88.0      A¤os   FEMENINO           Norte   \n",
       "1                Suba  16.0      A¤os  MASCULINO           Norte   \n",
       "2  Rafael Uribe Uribe  52.0      A¤os   FEMENINO  Centro Oriente   \n",
       "3      Ciudad Bol¡var   NaN  SIN_DATO   SIN_DATO         Privada   \n",
       "4             Usaqun  33.0      A¤os  MASCULINO           Norte   \n",
       "\n",
       "               TIPO_INCIDENTE PRIORIDAD            RECEPCION  \\\n",
       "0  Accidente Cerebro Vascular      ALTA  2022-07-01 03:40:13   \n",
       "1                      Herido      ALTA  2022-07-01 03:38:13   \n",
       "2         Evento Respiratorio   CRITICA  2022-07-01 04:08:24   \n",
       "3                      Herido      ALTA  0000-00-00 00:00:00   \n",
       "4         Intento de Suicidio      ALTA  2022-07-01 03:25:29   \n",
       "\n",
       "  RECEPCION_CORREGIDA  \n",
       "0 2022-07-01 03:40:13  \n",
       "1 2022-07-01 03:38:13  \n",
       "2 2022-07-01 04:08:24  \n",
       "3                 NaT  \n",
       "4 2022-07-01 03:25:29  "
      ]
     },
     "execution_count": 103,
     "metadata": {},
     "output_type": "execute_result"
    }
   ],
   "source": [
    "#crear una funcion para intentar corregir las fechas incluyendo los nulos\n",
    "fechas = lambda x: parse(x)\n",
    "\n",
    "list_fechas = list() #convertir en una lista las fechas\n",
    "for fecha in data[col]:\n",
    "    try: #intente hacerlo\n",
    "        new_fecha = parse(fecha)\n",
    "    except Exception as e:\n",
    "        new_fecha = pd.to_datetime(fecha,errors='coerce')#me muestra los errores como NaT y no se detiene el codigo\n",
    "       \n",
    "    list_fechas.append(new_fecha)\n",
    "\n",
    "data['RECEPCION_CORREGIDA'] =list_fechas #crear una nueva columna con las fecha corregidas\n",
    "\n",
    "data.head() #traer los 5 primeros datos de la tabla\n",
    "\n",
    "#en la página de stackowerflow enuengtro la solición de los errores"
   ]
  },
  {
   "cell_type": "code",
   "execution_count": 104,
   "metadata": {},
   "outputs": [
    {
     "data": {
      "text/plain": [
       "0000-00-00 00:00:00    7767\n",
       "2022-07-25 00:58:03       3\n",
       "2022-07-26 17:37:39       2\n",
       "2022-07-07 22:39:11       2\n",
       "2022-07-14 14:03:03       2\n",
       "                       ... \n",
       "2022-07-11 15:25:36       1\n",
       "2022-07-09 06:22:58       1\n",
       "2022-07-11 09:40:05       1\n",
       "2022-07-14 02:31:13       1\n",
       "2022-07-07 15:11:10       1\n",
       "Name: RECEPCION, Length: 5235, dtype: int64"
      ]
     },
     "execution_count": 104,
     "metadata": {},
     "output_type": "execute_result"
    }
   ],
   "source": [
    "data[col].value_counts()"
   ]
  },
  {
   "cell_type": "code",
   "execution_count": 105,
   "metadata": {},
   "outputs": [
    {
     "data": {
      "text/plain": [
       "array(['Suba', 'Rafael Uribe Uribe', 'Ciudad Bol¡var', 'Usaqu\\x82n',\n",
       "       'La Candelaria', 'Antonio Nari¤o', 'San Crist¢bal', 'Teusaquillo',\n",
       "       'Kennedy', 'Usme', 'Bosa', 'Tunjuelito', 'Engativ\\xa0',\n",
       "       'Los M\\xa0rtires', 'Fontib¢n', 'Chapinero', 'Puente Aranda',\n",
       "       'Santa Fe', 'Barrios Unidos', 'Sumapaz'], dtype=object)"
      ]
     },
     "execution_count": 105,
     "metadata": {},
     "output_type": "execute_result"
    }
   ],
   "source": [
    "col='LOCALIDAD'\n",
    "data[col].unique()"
   ]
  },
  {
   "cell_type": "code",
   "execution_count": 106,
   "metadata": {},
   "outputs": [
    {
     "data": {
      "text/plain": [
       "0                      Suba\n",
       "1                      Suba\n",
       "2        Rafael Uribe Uribe\n",
       "3            Ciudad Bol¡var\n",
       "4                   Usaqun\n",
       "                ...        \n",
       "13021          Los M rtires\n",
       "13022          Los M rtires\n",
       "13023              Engativ \n",
       "13024              Engativ \n",
       "13025              Fontib¢n\n",
       "Name: LOCALIDAD, Length: 13026, dtype: object"
      ]
     },
     "execution_count": 106,
     "metadata": {},
     "output_type": "execute_result"
    }
   ],
   "source": [
    "col='LOCALIDAD'\n",
    "data[col] #verificar los datos de esa columna"
   ]
  },
  {
   "cell_type": "code",
   "execution_count": 107,
   "metadata": {},
   "outputs": [
    {
     "data": {
      "text/plain": [
       "Kennedy               1740\n",
       "Suba                  1323\n",
       "Engativ               1304\n",
       "Bosa                  1065\n",
       "Ciudad Bol¡var        1009\n",
       "Puente Aranda          742\n",
       "Fontib¢n               670\n",
       "Usaqun                667\n",
       "Rafael Uribe Uribe     601\n",
       "Usme                   597\n",
       "San Crist¢bal          595\n",
       "Chapinero              507\n",
       "Tunjuelito             391\n",
       "Barrios Unidos         389\n",
       "Los M rtires           379\n",
       "Teusaquillo            361\n",
       "Santa Fe               356\n",
       "Antonio Nari¤o         244\n",
       "La Candelaria           85\n",
       "Sumapaz                  1\n",
       "Name: LOCALIDAD, dtype: int64"
      ]
     },
     "execution_count": 107,
     "metadata": {},
     "output_type": "execute_result"
    }
   ],
   "source": [
    "col='LOCALIDAD'\n",
    "data[col].value_counts()"
   ]
  },
  {
   "cell_type": "code",
   "execution_count": 108,
   "metadata": {},
   "outputs": [
    {
     "data": {
      "text/plain": [
       "'Los Martires'"
      ]
     },
     "execution_count": 108,
     "metadata": {},
     "output_type": "execute_result"
    }
   ],
   "source": [
    "#buscar patrones para arreglarlos\n",
    "\n",
    "import re #libreria para busquedas\n",
    "\n",
    "def encontrar_patron(patron, txt):\n",
    "    if re.search(patron, txt):\n",
    "        new_txt = 'Los Martires'\n",
    "        return new_txt\n",
    "    else:\n",
    "        pass\n",
    "\n",
    "encontrar_patron(\"Los.*tires\", 'Los M\\xa0rtires')#si encuentra el patron de texto reemplacelo"
   ]
  }
 ],
 "metadata": {
  "kernelspec": {
   "display_name": "Python 3.8.3 ('base')",
   "language": "python",
   "name": "python3"
  },
  "language_info": {
   "codemirror_mode": {
    "name": "ipython",
    "version": 3
   },
   "file_extension": ".py",
   "mimetype": "text/x-python",
   "name": "python",
   "nbconvert_exporter": "python",
   "pygments_lexer": "ipython3",
   "version": "3.8.3"
  },
  "orig_nbformat": 4,
  "vscode": {
   "interpreter": {
    "hash": "b237fbb5c931b2d79402a5279ee8b814e811b1754177f6af3e8ca9c69a245e5d"
   }
  }
 },
 "nbformat": 4,
 "nbformat_minor": 2
}
