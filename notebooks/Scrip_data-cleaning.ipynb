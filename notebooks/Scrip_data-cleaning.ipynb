{
 "cells": [
  {
   "cell_type": "code",
   "execution_count": 513,
   "metadata": {},
   "outputs": [],
   "source": [
    "# pseudo codigo\n",
    "# main()\n",
    "#    datos = get_data(filename)\n",
    "#    duplicados = remove_duplicates\n",
    "#    fechas = cleaning_date (data)\n",
    "#    save_data(reporte)\n",
    "\n",
    "import os\n",
    "import pandas as pd\n",
    "from pathlib import Path\n",
    "import numpy as np\n",
    "from dateutil.parser import parse\n",
    "import re\n",
    "\n"
   ]
  },
  {
   "cell_type": "code",
   "execution_count": 514,
   "metadata": {},
   "outputs": [
    {
     "data": {
      "text/plain": [
       "'C:\\\\Users\\\\Fabio\\\\OneDrive\\\\Documentos\\\\Jenny\\\\BIG DATA\\\\BIGDATA2022\\\\data\\\\raw'"
      ]
     },
     "execution_count": 514,
     "metadata": {},
     "output_type": "execute_result"
    }
   ],
   "source": [
    "%pwd"
   ]
  },
  {
   "cell_type": "code",
   "execution_count": 515,
   "metadata": {},
   "outputs": [
    {
     "data": {
      "text/plain": [
       "'C:\\\\Users\\\\Fabio\\\\OneDrive\\\\Documentos\\\\Jenny\\\\BIG DATA\\\\BIGDATA2022\\\\data\\\\raw'"
      ]
     },
     "execution_count": 515,
     "metadata": {},
     "output_type": "execute_result"
    }
   ],
   "source": [
    "path = r'C:\\Users\\Fabio\\OneDrive\\Documentos\\Jenny\\BIG DATA\\BIGDATA2022\\data\\raw'\n",
    "%pwd\n"
   ]
  },
  {
   "cell_type": "code",
   "execution_count": 516,
   "metadata": {},
   "outputs": [],
   "source": [
    "os.chdir(path)\n"
   ]
  },
  {
   "cell_type": "code",
   "execution_count": 517,
   "metadata": {},
   "outputs": [
    {
     "data": {
      "text/plain": [
       "'C:\\\\Users\\\\Fabio\\\\OneDrive\\\\Documentos\\\\Jenny\\\\BIG DATA\\\\BIGDATA2022\\\\data\\\\raw'"
      ]
     },
     "execution_count": 517,
     "metadata": {},
     "output_type": "execute_result"
    }
   ],
   "source": [
    "%pwd"
   ]
  },
  {
   "cell_type": "code",
   "execution_count": 518,
   "metadata": {},
   "outputs": [
    {
     "data": {
      "text/plain": [
       "'C:\\\\Users\\\\Fabio\\\\OneDrive\\\\Documentos\\\\Jenny\\\\BIG DATA\\\\BIGDATA2022\\\\data\\\\raw\\\\data\\\\raw'"
      ]
     },
     "execution_count": 518,
     "metadata": {},
     "output_type": "execute_result"
    }
   ],
   "source": [
    "root_dir = Path(\".\").resolve()#para ubicacion de archivo # para devolver a la carpeta principal\n",
    "\n",
    "file_path = os.path.join(root_dir,\"data\",\"raw\")\n",
    "file_path"
   ]
  },
  {
   "cell_type": "code",
   "execution_count": 519,
   "metadata": {},
   "outputs": [
    {
     "data": {
      "text/plain": [
       "['llamadas123_abril_2021.csv',\n",
       " 'llamadas123_abril_2022.csv',\n",
       " 'llamadas123_agosto_2021.csv',\n",
       " 'llamadas123_agosto_2022.csv',\n",
       " 'llamadas123_diciembre_2021.csv',\n",
       " 'llamadas123_enero_2021.csv',\n",
       " 'llamadas123_enero_2022.csv',\n",
       " 'llamadas123_febrero_2021.csv',\n",
       " 'llamadas123_febrero_2022.csv',\n",
       " 'llamadas123_julio_2021.csv',\n",
       " 'llamadas123_julio_2022.csv',\n",
       " 'llamadas123_junio_2021.csv',\n",
       " 'llamadas123_junio_2022.csv',\n",
       " 'llamadas123_marzo_2021.csv',\n",
       " 'llamadas123_marzo_2022.csv',\n",
       " 'llamadas123_mayo_2021.csv',\n",
       " 'llamadas123_mayo_2022.csv',\n",
       " 'llamadas123_noviembre_2021.csv',\n",
       " 'llamadas123_octubre_2021.csv',\n",
       " 'llamadas123_septiembre_2021.csv']"
      ]
     },
     "execution_count": 519,
     "metadata": {},
     "output_type": "execute_result"
    }
   ],
   "source": [
    "\n",
    "datos = [ x for x in os.listdir() if re.search('.csv$',x)]\n",
    "datos"
   ]
  },
  {
   "cell_type": "code",
   "execution_count": 481,
   "metadata": {},
   "outputs": [],
   "source": [
    "df=pd.DataFrame()"
   ]
  },
  {
   "cell_type": "code",
   "execution_count": 520,
   "metadata": {},
   "outputs": [],
   "source": [
    "df= pd.DataFrame ()\n"
   ]
  },
  {
   "cell_type": "code",
   "execution_count": 521,
   "metadata": {},
   "outputs": [],
   "source": [
    "for i in datos:\n",
    "    datos =pd.read_csv(i,\n",
    "    sep = ';',\n",
    "    encoding = 'latin-1')\n",
    "    df = pd.concat([datos,df])\n"
   ]
  },
  {
   "cell_type": "code",
   "execution_count": 522,
   "metadata": {},
   "outputs": [
    {
     "data": {
      "text/plain": [
       "(251231, 12)"
      ]
     },
     "execution_count": 522,
     "metadata": {},
     "output_type": "execute_result"
    }
   ],
   "source": [
    "df.shape"
   ]
  },
  {
   "cell_type": "code",
   "execution_count": 523,
   "metadata": {},
   "outputs": [
    {
     "data": {
      "text/html": [
       "<div>\n",
       "<style scoped>\n",
       "    .dataframe tbody tr th:only-of-type {\n",
       "        vertical-align: middle;\n",
       "    }\n",
       "\n",
       "    .dataframe tbody tr th {\n",
       "        vertical-align: top;\n",
       "    }\n",
       "\n",
       "    .dataframe thead th {\n",
       "        text-align: right;\n",
       "    }\n",
       "</style>\n",
       "<table border=\"1\" class=\"dataframe\">\n",
       "  <thead>\n",
       "    <tr style=\"text-align: right;\">\n",
       "      <th></th>\n",
       "      <th>NUMERO_INCIDENTE</th>\n",
       "      <th>FECHA_INICIO_DESPLAZAMIENTO_MOVIL</th>\n",
       "      <th>CODIGO_LOCALIDAD</th>\n",
       "      <th>LOCALIDAD</th>\n",
       "      <th>EDAD</th>\n",
       "      <th>UNIDAD</th>\n",
       "      <th>GENERO</th>\n",
       "      <th>RED</th>\n",
       "      <th>TIPO_INCIDENTE</th>\n",
       "      <th>PRIORIDAD</th>\n",
       "      <th>RECEPCION</th>\n",
       "      <th>FECHA_INICIO_DESPLAZAMIENTO-MOVIL</th>\n",
       "    </tr>\n",
       "  </thead>\n",
       "  <tbody>\n",
       "    <tr>\n",
       "      <th>0</th>\n",
       "      <td>CRU-00464981-21</td>\n",
       "      <td>1/09/2021 0:45</td>\n",
       "      <td>16</td>\n",
       "      <td>Puente Aranda</td>\n",
       "      <td>15</td>\n",
       "      <td>A¤os</td>\n",
       "      <td>MASCULINO</td>\n",
       "      <td>Norte</td>\n",
       "      <td>Enfermo</td>\n",
       "      <td>MEDIA</td>\n",
       "      <td>NaN</td>\n",
       "      <td>NaN</td>\n",
       "    </tr>\n",
       "    <tr>\n",
       "      <th>1</th>\n",
       "      <td>CRU-00464982-21</td>\n",
       "      <td>1/09/2021 0:03</td>\n",
       "      <td>13</td>\n",
       "      <td>Teusaquillo</td>\n",
       "      <td>SIN_DATO</td>\n",
       "      <td>SIN_DATO</td>\n",
       "      <td>SIN_DATO</td>\n",
       "      <td>Norte</td>\n",
       "      <td>Herido</td>\n",
       "      <td>ALTA</td>\n",
       "      <td>NaN</td>\n",
       "      <td>NaN</td>\n",
       "    </tr>\n",
       "    <tr>\n",
       "      <th>2</th>\n",
       "      <td>CRU-00464983-21</td>\n",
       "      <td>1/09/2021 0:15</td>\n",
       "      <td>10</td>\n",
       "      <td>Engativ</td>\n",
       "      <td>56</td>\n",
       "      <td>A¤os</td>\n",
       "      <td>MASCULINO</td>\n",
       "      <td>Norte</td>\n",
       "      <td>Intoxicaci¢n</td>\n",
       "      <td>ALTA</td>\n",
       "      <td>NaN</td>\n",
       "      <td>NaN</td>\n",
       "    </tr>\n",
       "    <tr>\n",
       "      <th>3</th>\n",
       "      <td>CRU-00464984-21</td>\n",
       "      <td>1/09/2021 0:11</td>\n",
       "      <td>2</td>\n",
       "      <td>Chapinero</td>\n",
       "      <td>SIN_DATO</td>\n",
       "      <td>SIN_DATO</td>\n",
       "      <td>SIN_DATO</td>\n",
       "      <td>Norte</td>\n",
       "      <td>Herido</td>\n",
       "      <td>ALTA</td>\n",
       "      <td>NaN</td>\n",
       "      <td>NaN</td>\n",
       "    </tr>\n",
       "    <tr>\n",
       "      <th>4</th>\n",
       "      <td>CRU-00464986-21</td>\n",
       "      <td>1/09/2021 0:16</td>\n",
       "      <td>3</td>\n",
       "      <td>Santa Fe</td>\n",
       "      <td>28</td>\n",
       "      <td>A¤os</td>\n",
       "      <td>FEMENINO</td>\n",
       "      <td>Norte</td>\n",
       "      <td>Evento Respiratorio</td>\n",
       "      <td>ALTA</td>\n",
       "      <td>NaN</td>\n",
       "      <td>NaN</td>\n",
       "    </tr>\n",
       "  </tbody>\n",
       "</table>\n",
       "</div>"
      ],
      "text/plain": [
       "  NUMERO_INCIDENTE FECHA_INICIO_DESPLAZAMIENTO_MOVIL  CODIGO_LOCALIDAD  \\\n",
       "0  CRU-00464981-21                    1/09/2021 0:45                16   \n",
       "1  CRU-00464982-21                    1/09/2021 0:03                13   \n",
       "2  CRU-00464983-21                    1/09/2021 0:15                10   \n",
       "3  CRU-00464984-21                    1/09/2021 0:11                 2   \n",
       "4  CRU-00464986-21                    1/09/2021 0:16                 3   \n",
       "\n",
       "       LOCALIDAD      EDAD    UNIDAD     GENERO    RED       TIPO_INCIDENTE  \\\n",
       "0  Puente Aranda        15      A¤os  MASCULINO  Norte              Enfermo   \n",
       "1    Teusaquillo  SIN_DATO  SIN_DATO   SIN_DATO  Norte               Herido   \n",
       "2       Engativ         56      A¤os  MASCULINO  Norte         Intoxicaci¢n   \n",
       "3      Chapinero  SIN_DATO  SIN_DATO   SIN_DATO  Norte               Herido   \n",
       "4       Santa Fe        28      A¤os   FEMENINO  Norte  Evento Respiratorio   \n",
       "\n",
       "  PRIORIDAD RECEPCION FECHA_INICIO_DESPLAZAMIENTO-MOVIL  \n",
       "0     MEDIA       NaN                               NaN  \n",
       "1      ALTA       NaN                               NaN  \n",
       "2      ALTA       NaN                               NaN  \n",
       "3      ALTA       NaN                               NaN  \n",
       "4      ALTA       NaN                               NaN  "
      ]
     },
     "execution_count": 523,
     "metadata": {},
     "output_type": "execute_result"
    }
   ],
   "source": [
    "df.head ()"
   ]
  },
  {
   "cell_type": "code",
   "execution_count": 524,
   "metadata": {},
   "outputs": [],
   "source": [
    "def remove_duplicates(df):\n",
    "  df = df.drop_duplicates() \n",
    "  df.reset_index(inplace=True, drop=True) \n",
    "  return df\n"
   ]
  },
  {
   "cell_type": "code",
   "execution_count": 526,
   "metadata": {},
   "outputs": [],
   "source": [
    "def cleaning_date (df):\n",
    "\n",
    "  col ='FECHA_INICIO_DESPLAZAMIENTO_MOVIL'\n",
    "  df[col] #verificar como vienen los datos de la columna de fechas\n",
    "\n",
    "  fecha = '1985-12-03 00:00:00'\n",
    "  pd.to_datetime(fecha,errors='coerce', format ='%Y/%m/%d')#no asignarle nada si se encuentra en ese formato \n",
    "  #y asignarle un formato de fecha para verificar si es una fecha correcta o es un NaT\n",
    "\n",
    "  col='FECHA_INICIO_DESPLAZAMIENTO_MOVIL'\n",
    "  df[col] = pd.to_datetime(df[col],errors='coerce') #cambiar el tipo de dato string a fecha\n",
    "  df.info()\n",
    "\n",
    "  #crear una funcion para intentar corregir las fechas incluyendo los nulos\n",
    "  fechas = lambda x: parse(x)\n",
    "\n",
    "  list_fechas = list() #convertir en una lista las fechas\n",
    "  for fecha in df[col]:\n",
    "    try: #intente hacerlo\n",
    "        new_fecha = parse(fecha)\n",
    "    except Exception as e:\n",
    "        new_fecha = pd.to_datetime(fecha,errors='coerce')#me muestra los errores como NaT y no se detiene el codigo\n",
    "       \n",
    "    list_fechas.append(new_fecha)\n",
    "\n",
    "  df['RECEPCION_CORREGIDA'] =list_fechas #crear una nueva columna con las fecha corregidas\n",
    "\n",
    "  return df\n"
   ]
  },
  {
   "cell_type": "code",
   "execution_count": 527,
   "metadata": {},
   "outputs": [],
   "source": [
    "def column_cleaning (df):\n",
    "\n",
    " col = 'UNIDAD'\n",
    " df [col].fillna('SIN_DATO', inplace=True)\n",
    " df [col].value_counts(dropna=False, normalize=True)\n",
    "\n",
    " col='EDAD'\n",
    " df[col].replace({'SIN_DATO': np.nan}, inplace =True) #reemplaza las de SIN_DATE por nan sin numero asignado\n",
    " df[col]\n",
    "\n",
    " f = lambda x: x if pd.isna(x) else int(x) #definimos la funcion f para que si es nulo ponga x o si no ponga entero de f\n",
    " df[col] = df[col].apply(f)#para cambiar el tipo de dato de la columna EDAD de object a float\n",
    " return df"
   ]
  },
  {
   "cell_type": "code",
   "execution_count": 497,
   "metadata": {},
   "outputs": [
    {
     "data": {
      "text/plain": [
       "WindowsPath('C:/Users/Fabio/OneDrive/Documentos/Jenny/BIG DATA/BIGDATA2022/data')"
      ]
     },
     "execution_count": 497,
     "metadata": {},
     "output_type": "execute_result"
    }
   ],
   "source": [
    "root_dir=Path('.').resolve().parent\n",
    "root_dir\n"
   ]
  },
  {
   "cell_type": "code",
   "execution_count": 531,
   "metadata": {},
   "outputs": [],
   "source": [
    "def save_data(df): # Guardar tabla\n",
    "    \n",
    "    root_dir=Path('.').resolve().parent\n",
    "    \n",
    "    out_name = 'base_total_2021_2022'# Indicar nombre al archivo de salida\n",
    "    out_path = os.path.join(root_dir,'processed', out_name)\n",
    "    df.to_csv(out_path, sep=';')\n"
   ]
  },
  {
   "cell_type": "code",
   "execution_count": 532,
   "metadata": {},
   "outputs": [],
   "source": [
    "def main():\n",
    "\n",
    "    remove_duplicates\n",
    "    cleaning_date\n",
    "    column_cleaning\n",
    "    save_data\n",
    "    print('DONE')\n",
    "    "
   ]
  },
  {
   "cell_type": "code",
   "execution_count": 533,
   "metadata": {},
   "outputs": [
    {
     "name": "stdout",
     "output_type": "stream",
     "text": [
      "DONE\n"
     ]
    }
   ],
   "source": [
    "if __name__ == \"__main__\":\n",
    "    \n",
    "    main()\n"
   ]
  }
 ],
 "metadata": {
  "kernelspec": {
   "display_name": "Python 3.8.3 ('base')",
   "language": "python",
   "name": "python3"
  },
  "language_info": {
   "codemirror_mode": {
    "name": "ipython",
    "version": 3
   },
   "file_extension": ".py",
   "mimetype": "text/x-python",
   "name": "python",
   "nbconvert_exporter": "python",
   "pygments_lexer": "ipython3",
   "version": "3.8.3"
  },
  "orig_nbformat": 4,
  "vscode": {
   "interpreter": {
    "hash": "b237fbb5c931b2d79402a5279ee8b814e811b1754177f6af3e8ca9c69a245e5d"
   }
  }
 },
 "nbformat": 4,
 "nbformat_minor": 2
}
